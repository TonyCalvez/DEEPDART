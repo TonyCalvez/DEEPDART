{
 "cells": [
  {
   "cell_type": "markdown",
   "metadata": {
    "collapsed": true,
    "pycharm": {
     "name": "#%% md\n"
    }
   },
   "source": [
    "# IMAGE RECOGNITION GENERATOR\n",
    "## Name of the model : \n",
    "\n",
    "First step, you need to enter the name of the model below : "
   ]
  },
  {
   "cell_type": "code",
   "execution_count": 1,
   "metadata": {
    "pycharm": {
     "is_executing": false,
     "name": "#%% \n"
    }
   },
   "outputs": [
    {
     "name": "stdout",
     "output_type": "stream",
     "text": [
      "You work for an image recognition for the nao inside the directory : /home/tonycalvez/GitHub/DEEPDART\n"
     ]
    }
   ],
   "source": [
    "model_name = \"nao\"\n",
    "\n",
    "import os\n",
    "ROOT_DIR = os.path.abspath(os.curdir)\n",
    "download_directory = ROOT_DIR + \"/PICTURES_DATABASE/\"\n",
    "pics_directory = download_directory  + model_name\n",
    "print(\"You work for an image recognition for the\", model_name, \"inside the directory :\", ROOT_DIR)"
   ]
  },
  {
   "cell_type": "markdown",
   "metadata": {},
   "source": [
    "## Download : \n",
    "First step, you need to download minimum 250 pics with of your model with google images.\n",
    "You need to find three or four related keywords with the model : "
   ]
  },
  {
   "cell_type": "code",
   "execution_count": 3,
   "metadata": {
    "pycharm": {
     "is_executing": false,
     "name": "#%% \n"
    }
   },
   "outputs": [
    {
     "name": "stdout",
     "output_type": "stream",
     "text": [
      "\n",
      "Item no.: 1 --> Item name = nao robot\n",
      "Evaluating...\n",
      "Starting Download...\n",
      "Completed Image ====> 1.robot-humanoide-programmable-nao-v6.jpg\n",
      "\n",
      "Errors: 0\n",
      "\n",
      "\n",
      "Item no.: 1 --> Item name = nao school\n",
      "Evaluating...\n",
      "Starting Download...\n",
      "Completed Image ====> 1.NAO.jpg\n",
      "\n",
      "Errors: 0\n",
      "\n",
      "\n",
      "Item no.: 1 --> Item name = nao humanoide\n",
      "Evaluating...\n",
      "Starting Download...\n",
      "Completed Image ====> 1.Nao_Robot_%28Robocup_2016%29.jpg\n",
      "\n",
      "Errors: 0\n",
      "\n",
      "\n",
      "Item no.: 1 --> Item name = nao aldebaran\n",
      "Evaluating...\n",
      "Starting Download...\n",
      "Completed Image ====> 1.Nao_Robot_%28Robocup_2016%29.jpg\n",
      "\n",
      "Errors: 0\n",
      "\n"
     ]
    }
   ],
   "source": [
    "keywords = [\"robot\", \"school\", \"humanoide\", \"aldebaran\"]\n",
    "\n",
    "nb_pics_downloaded_by_keyword = 1 \n",
    "\n",
    "from google_images_download import google_images_download\n",
    "response = google_images_download.googleimagesdownload()\n",
    "for keyword in keywords:\n",
    "    arguments = {\"keywords\":model_name + \" \" + keyword,\"limit\":nb_pics_downloaded_by_keyword, \"print_urls\":False, \"format\":\"jpg\", \"output_directory\":download_directory, \"image_directory\": model_name}\n",
    "    paths = response.download(arguments)\n",
    "    "
   ]
  },
  {
   "cell_type": "markdown",
   "metadata": {},
   "source": [
    "## Check and Match!\n",
    "Try to check all pics and verify if all pics have your model.\n",
    "Moreover it's very important to match your pics and delete the duplicates!\n",
    "\n",
    "In the bash to install the gthumb software : \n",
    "```\n",
    "sudo apt-get install gthumb \n",
    "```\n",
    "\n",
    "![GTHUMB_DUPLICATES.png](IMG/GTHUMB_DUPLICATES.png)"
   ]
  },
  {
   "cell_type": "code",
   "execution_count": 8,
   "metadata": {
    "pycharm": {
     "is_executing": false,
     "name": "#%% \n"
    }
   },
   "outputs": [
    {
     "data": {
      "text/plain": [
       "0"
      ]
     },
     "execution_count": 8,
     "metadata": {},
     "output_type": "execute_result"
    }
   ],
   "source": [
    "import os\n",
    "os.system(\"gthumb \" + pics_directory)"
   ]
  },
  {
   "cell_type": "markdown",
   "metadata": {},
   "source": [
    "This script rename all pictures with a number:"
   ]
  },
  {
   "cell_type": "code",
   "execution_count": 49,
   "metadata": {
    "pycharm": {
     "is_executing": false,
     "name": "#%%\n"
    }
   },
   "outputs": [
    {
     "name": "stdout",
     "output_type": "stream",
     "text": [
      "You have only :  7 /250 pictures in your database\n",
      "Please restart the google image downloader with others keywords\n"
     ]
    }
   ],
   "source": [
    "import os\n",
    "i = 0\n",
    "for root, dirs, files in os.walk(pics_directory):\n",
    "    for i,f in enumerate(files):\n",
    "        absname = os.path.join(root, f)\n",
    "        newname = os.path.join(root, \"data_\"+str(i)+\".jpg\")\n",
    "        os.rename(absname, newname)\n",
    "if i < 250:\n",
    "    print(\"You have only : \", str(i), \"/250 pictures in your database\")\n",
    "    print(\"Please restart the google image downloader with others keywords\")\n",
    "    \n",
    "else : \n",
    "    print(\"You have : \", str(i), \"pictures! Good Job!\")\n",
    "    "
   ]
  },
  {
   "cell_type": "markdown",
   "metadata": {
    "pycharm": {
     "name": "#%% md\n"
    }
   },
   "source": [
    "## Scrapping and Labeling your Pics.\n",
    "In this part, I think this is the worst moment of the project! You need to scrap and label all pictures in your database.\n",
    "This sofware will generate a YOLO dataset for each picture in the folder. \n",
    "\n",
    "In the bash to install the labelImg software : \n",
    "```\n",
    "sudo apt-get install pyqt5-dev-tools\n",
    "sudo pip install lxml\n",
    "cd ~/Downloads\n",
    "git clone https://github.com/tzutalin/labelImg\n",
    "cd labelImg-master\n",
    "make qt5py3\n",
    "```\n",
    "\n",
    "Please don't forget to change the Pascal VOC data to YOLO data"
   ]
  },
  {
   "cell_type": "code",
   "execution_count": null,
   "metadata": {
    "pycharm": {
     "name": "#%%\n"
    }
   },
   "outputs": [],
   "source": [
    "import os\n",
    "os.system(\"labelImg \" + pics_directory + \" \" + model_name)"
   ]
  },
  {
   "cell_type": "markdown",
   "metadata": {
    "pycharm": {
     "name": "#%% md\n"
    }
   },
   "source": [
    "#### Convert Pascal VOC to YOLO\n",
    "In this part, if you have used an other software. You can convert your data with the format Pascal VOC inside a XML File to YOLO format in a txt file.\n",
    "We have implemented this converter inside the project.\n",
    "\n",
    "Please, change the name of your classes below : "
   ]
  },
  {
   "cell_type": "code",
   "execution_count": 3,
   "metadata": {
    "pycharm": {
     "is_executing": false,
     "name": "#%%\n"
    }
   },
   "outputs": [],
   "source": [
    "classes = [\"nao\", \"dart\", \"uuv\"]\n",
    "\n",
    "import os\n",
    "ROOT_DIR = os.path.abspath(os.curdir)\n",
    "file = open(ROOT_DIR + \"/PASCALVOC_TO_YOLO/classes.txt\", \"w\")\n",
    "for classe in classes:\n",
    "    file.write(classe + \"\\n\")\n",
    "file.close()\n",
    "                    \n",
    "\n",
    "os.system(\"cd \" + ROOT_DIR)\n",
    "os.system(\"cd PASCALVOC_TO_YOLO\")\n",
    "os.system(\"python xmltotxt.py -xml \" + pics_directory + \" -out \" + pics_directory)"
   ]
  },
  {
   "cell_type": "markdown",
   "metadata": {},
   "source": [
    "#### YOLO\n",
    "You only look once (YOLO) is a state-of-the-art, real-time object detection system. \n",
    "We can discover the SDK : https://pjreddie.com/darknet/yolo/"
   ]
  },
  {
   "cell_type": "code",
   "execution_count": 3,
   "metadata": {
    "pycharm": {
     "is_executing": false,
     "name": "#%% \n"
    }
   },
   "outputs": [],
   "source": [
    "import os\n",
    "ROOT_DIR = os.path.abspath(os.curdir)\n",
    "DARKNET_DIR = ROOT_DIR + \"/darknet/\"\n",
    "\n",
    "pics_directory_darknet = DARKNET_DIR + \"VOCdevkit\""
   ]
  },
  {
   "cell_type": "markdown",
   "metadata": {},
   "source": [
    "#### Data Augmentation\n",
    "Deep learning frameworks usually have built-in data augmentation utilities, but those can be inefficient or lacking some required functionality.\n",
    "Inside YOLO, we don't have this part, and we have implemented a data augmentation. This python generates 9 different version of each picture : \n",
    "- Origin.jpg\n",
    "- Gaussian.jpg\n",
    "- Median.jpg\n",
    "- Clahe.jpg\n",
    "- Gamma_Augmentation.jpg \n",
    "- Gaussian_Noisy.jpg \n",
    "- Pepper_Noisy.jpg\n",
    "- Horizontal_Flip.jpg\n",
    "- Vertical_Flip.jpg"
   ]
  },
  {
   "cell_type": "code",
   "execution_count": null,
   "metadata": {
    "pycharm": {
     "name": "#%%\n"
    }
   },
   "outputs": [],
   "source": [
    "from data_augmentation import dataAugmentation\n",
    "generate = dataAugmentation(pics_directory, os.listdir(pics_directory)[0])\n",
    "generate.main(pics_directory, pics_directory_darknet)\n",
    "print(\"The data have been augmented!\")"
   ]
  },
  {
   "cell_type": "markdown",
   "metadata": {
    "pycharm": {
     "is_executing": false,
     "name": "#%% md\n"
    }
   },
   "source": [
    "#### Training and Test Dataset\n",
    "In this part, we split our database in two parts : \n",
    "- Training Dataset (95%)\n",
    "- Test Dataset (5%)\n",
    "\n",
    "The model is initially fit on a training dataset and the testing dataset will make predictions on data.\n",
    "You can show the plot this curve with YOLO."
   ]
  },
  {
   "cell_type": "code",
   "execution_count": null,
   "metadata": {
    "pycharm": {
     "name": "#%% \n"
    }
   },
   "outputs": [],
   "source": [
    "import glob, os\n",
    "pics_directory_darknet_relative = 'VOCdevkit/'\n",
    "percentage_test = 5\n",
    "\n",
    "file_train = open('darknet/ENSTA/train.txt', 'w')  \n",
    "file_test = open('darknet/ENSTA/test.txt', 'w')\n",
    "counter = 1  \n",
    "index_test = round(100 / percentage_test)  \n",
    "\n",
    "for pathAndFilename in glob.iglob(os.path.join(pics_directory_darknet, \"*.jpg\")):  \n",
    "    title, ext = os.path.splitext(os.path.basename(pathAndFilename))\n",
    "\n",
    "    if counter == index_test:\n",
    "        counter = 1\n",
    "        file_test.write(pics_directory_darknet_relative + title + '.jpg' + \"\\n\")\n",
    "    else:\n",
    "        file_train.write(pics_directory_darknet_relative + title + '.jpg' + \"\\n\")\n",
    "        counter = counter + 1\n",
    "        \n",
    "file_train.close()\n",
    "file_test.close() "
   ]
  },
  {
   "cell_type": "markdown",
   "metadata": {},
   "source": [
    "#### Configuring YOLO :\n",
    "In this part, we are preparing the different config files "
   ]
  },
  {
   "cell_type": "code",
   "execution_count": 42,
   "metadata": {
    "pycharm": {
     "is_executing": false,
     "name": "#%% \n"
    }
   },
   "outputs": [],
   "source": [
    "list_names = classes\n",
    "nb_class = str(len(list_names))\n",
    "\n",
    "file_obj = open(DARKNET_DIR + 'ENSTA/obj.data', 'w')\n",
    "file_obj.write(\"classes = \" + nb_class + \"\\ntrain  = ENSTA/train.txt \\nvalid  = ENSTA/test.txt \\nnames = obj.names \\nbackup = backup/\")\n",
    "file_obj.close()\n",
    "\n",
    "file_names = open(DARKNET_DIR + 'ENSTA/obj.names', 'w')\n",
    "for name in classes:\n",
    "    file_names.write(name + \"\\n\")\n",
    "file_names.close()\n",
    "    "
   ]
  },
  {
   "cell_type": "markdown",
   "metadata": {},
   "source": [
    "#### Downloading the YOLO weight :\n",
    "In this part, we are downloading the empty weight and will generate a trained model."
   ]
  },
  {
   "cell_type": "code",
   "execution_count": 46,
   "metadata": {
    "pycharm": {
     "is_executing": false,
     "name": "#%%\n"
    }
   },
   "outputs": [
    {
     "data": {
      "text/plain": [
       "0"
      ]
     },
     "execution_count": 46,
     "metadata": {},
     "output_type": "execute_result"
    }
   ],
   "source": [
    "os.system(\"wget https://pjreddie.com/media/files/darknet53.conv.74\")\n",
    "\n",
    "os.system(\"mv  \" + ROOT_DIR + \"/darknet53.conv.74 \" + DARKNET_DIR + \"ENSTA/\")"
   ]
  },
  {
   "cell_type": "markdown",
   "metadata": {},
   "source": [
    "#### Preparing your YOLO Neural Network :\n",
    "In this part, we are change the neural network to return the classes values correctly.\n",
    "We will need to modify the YOLOv3 tiny model (yolov3-tiny.cfg) to train our custom detector."
   ]
  },
  {
   "cell_type": "code",
   "execution_count": null,
   "metadata": {
    "pycharm": {
     "name": "#%%\n"
    }
   },
   "outputs": [],
   "source": [
    "os.system(\"cp  \" + DARKNET_DIR + \"/cfg/yolov3-tiny.cfg \" + DARKNET_DIR + \"ENSTA/\")\n",
    "\n",
    "os.system(\"sed -i 's/batch=1/batch=64/' \"+DARKNET_DIR+\"/yolov3-tiny.cfg\")\n",
    "os.system(\"sed -i 's/subdivisions=1/subdivisions=8/' \"+DARKNET_DIR+\"/yolov3-tiny.cfg\")\n",
    "os.system(\"sed -i 's/classes=80/classes=\"+nb_class+\"/' \"+DARKNET_DIR+\"/yolov3-tiny.cfg\")\n",
    "os.system(\"sed -i 's/filters=255/filters=\"+(nb_class+5)*3+\"/' \"+DARKNET_DIR+\"/yolov3-tiny.cfg\")"
   ]
  },
  {
   "cell_type": "markdown",
   "metadata": {},
   "source": [
    "#### Compiling the YOLO software :\n",
    "In this part, we compile YOLO for your machine.\n",
    "This installation below is released for a machine for Cuda, OpenMP, and OpenCV correctly build."
   ]
  },
  {
   "cell_type": "code",
   "execution_count": null,
   "metadata": {
    "pycharm": {
     "name": "#%%\n"
    }
   },
   "outputs": [],
   "source": [
    "os.system(\"sed -i 's/GPU=0/GPU=1/' \"+DARKNET_DIR+\"Makefile\")\n",
    "os.system(\"sed -i 's/CUDNN=0/CUDNN=1/' \"+DARKNET_DIR+\"Makefile\")\n",
    "os.system(\"sed -i 's/OPENCV=0/OPENCV=1/' \"+DARKNET_DIR+\"Makefile\")\n",
    "os.system(\"sed -i 's/OPENMP=0/OPENMP=1/' \"+DARKNET_DIR+\"Makefile\")\n",
    "\n",
    "os.system(\"cd \"+DARKNET_DIR)\n",
    "os.system(\"make\")"
   ]
  },
  {
   "cell_type": "markdown",
   "metadata": {},
   "source": [
    "#### Training your YOLO model :\n",
    "Open your terminal, go to your directory and let's go train your YOLO model with the command below:\n",
    "With a computer :\n",
    "```\n",
    "./darknet train ENSTA/obj.data ENSTA/yolov3-tiny.cfg ENSTA/darknet53.conv.74 --map\n",
    "```\n",
    "\n",
    "With a cluster machine :\n",
    "```\n",
    "run slurm script=darknet.sh -c 28 gpus=2 mem=30000\n",
    "```"
   ]
  },
  {
   "cell_type": "markdown",
   "metadata": {},
   "source": [
    "#### Evaluating your YOLO model : \n",
    "Check the last version of your weights inside the backup folder.\n",
    "Open your terminal, go to your directory and let's go test your YOLO model with the command below:\n",
    "\n",
    "With a computer with camera:\n",
    "```\n",
    "./darknet detector demo ENSTA/obj.data ENSTA/yolov3-tiny.cfg backup/yolov3-tiny_XXXX.weights /dev/video1\n",
    "```\n"
   ]
  },
  {
   "cell_type": "markdown",
   "metadata": {
    "pycharm": {
     "name": "#%% md\n"
    }
   },
   "source": [
    "@article{yolov3,\n",
    "  title={YOLOv3: An Incremental Improvement},\n",
    "  author={Redmon, Joseph and Farhadi, Ali},\n",
    "  journal = {arXiv},\n",
    "  year={2018}\n",
    "}"
   ]
  }
 ],
 "metadata": {
  "kernelspec": {
   "display_name": "PyCharm (DEEPDART)",
   "language": "python",
   "name": "pycharm-98d13212"
  },
  "language_info": {
   "codemirror_mode": {
    "name": "ipython",
    "version": 3
   },
   "file_extension": ".py",
   "mimetype": "text/x-python",
   "name": "python",
   "nbconvert_exporter": "python",
   "pygments_lexer": "ipython3",
   "version": "3.7.5"
  },
  "pycharm": {
   "stem_cell": {
    "cell_type": "raw",
    "metadata": {
     "collapsed": false
    },
    "source": []
   }
  }
 },
 "nbformat": 4,
 "nbformat_minor": 1
}
