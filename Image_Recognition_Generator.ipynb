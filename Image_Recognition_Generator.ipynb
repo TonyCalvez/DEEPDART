{
 "cells": [
  {
   "cell_type": "markdown",
   "metadata": {
    "collapsed": true,
    "pycharm": {
     "name": "#%% md\n"
    }
   },
   "source": [
    "# IMAGE RECOGNITION GENERATOR\n",
    "## Name of the model : \n",
    "\n",
    "First step, you need to enter the name of the model below : "
   ]
  },
  {
   "cell_type": "code",
   "execution_count": 1,
   "outputs": [
    {
     "name": "stdout",
     "text": [
      "You work for an image recognition for the nao inside the directory : /home/tonycalvez/GitHub/DEEPDART\n"
     ],
     "output_type": "stream"
    }
   ],
   "source": [
    "model_name = \"nao\"\n",
    "\n",
    "import os\n",
    "ROOT_DIR = os.path.abspath(os.curdir)\n",
    "download_directory = ROOT_DIR + \"/PICTURES_DATABASE/\"\n",
    "pics_directory = download_directory  + model_name\n",
    "print(\"You work for an image recognition for the\", model_name, \"inside the directory :\", ROOT_DIR)"
   ],
   "metadata": {
    "collapsed": false,
    "pycharm": {
     "name": "#%% \n",
     "is_executing": false
    }
   }
  },
  {
   "cell_type": "markdown",
   "source": [
    "## Download : \n",
    "First step, you need to download minimum 250 pics with of your model with google images.\n",
    "You need to find three or four related keywords with the model : "
   ],
   "metadata": {
    "collapsed": false
   }
  },
  {
   "cell_type": "code",
   "execution_count": 3,
   "outputs": [
    {
     "name": "stdout",
     "text": [
      "\n",
      "Item no.: 1 --> Item name = nao robot\n",
      "Evaluating...\n",
      "Starting Download...\n",
      "Completed Image ====> 1.robot-humanoide-programmable-nao-v6.jpg\n",
      "\n",
      "Errors: 0\n",
      "\n",
      "\n",
      "Item no.: 1 --> Item name = nao school\n",
      "Evaluating...\n",
      "Starting Download...\n",
      "Completed Image ====> 1.NAO.jpg\n",
      "\n",
      "Errors: 0\n",
      "\n",
      "\n",
      "Item no.: 1 --> Item name = nao humanoide\n",
      "Evaluating...\n",
      "Starting Download...\n",
      "Completed Image ====> 1.Nao_Robot_%28Robocup_2016%29.jpg\n",
      "\n",
      "Errors: 0\n",
      "\n",
      "\n",
      "Item no.: 1 --> Item name = nao aldebaran\n",
      "Evaluating...\n",
      "Starting Download...\n",
      "Completed Image ====> 1.Nao_Robot_%28Robocup_2016%29.jpg\n",
      "\n",
      "Errors: 0\n",
      "\n"
     ],
     "output_type": "stream"
    }
   ],
   "source": [
    "keywords = [\"robot\", \"school\", \"humanoide\", \"aldebaran\"]\n",
    "\n",
    "nb_pics_downloaded_by_keyword = 1 \n",
    "\n",
    "from google_images_download import google_images_download\n",
    "response = google_images_download.googleimagesdownload()\n",
    "for keyword in keywords:\n",
    "    arguments = {\"keywords\":model_name + \" \" + keyword,\"limit\":nb_pics_downloaded_by_keyword, \"print_urls\":False, \"format\":\"jpg\", \"output_directory\":download_directory, \"image_directory\": model_name}\n",
    "    paths = response.download(arguments)\n",
    "    "
   ],
   "metadata": {
    "collapsed": false,
    "pycharm": {
     "name": "#%% \n",
     "is_executing": false
    }
   }
  },
  {
   "cell_type": "markdown",
   "source": [
    "## Check and Match!\n",
    "Try to check all pics and verify if all pics have your model.\n",
    "Moreover it's very important to match your pics and delete the duplicates!\n",
    "\n",
    "In the bash to install the gthumb software : \n",
    "```\n",
    "sudo apt-get install gthumb \n",
    "```\n",
    "\n",
    "![GTHUMB_DUPLICATES.png](IMG/GTHUMB_DUPLICATES.png)"
   ],
   "metadata": {
    "collapsed": false
   }
  },
  {
   "cell_type": "code",
   "execution_count": 8,
   "outputs": [
    {
     "data": {
      "text/plain": "0"
     },
     "metadata": {},
     "output_type": "execute_result",
     "execution_count": 8
    }
   ],
   "source": [
    "import os\n",
    "os.system(\"gthumb \" + pics_directory)"
   ],
   "metadata": {
    "collapsed": false,
    "pycharm": {
     "name": "#%% \n",
     "is_executing": false
    }
   }
  },
  {
   "cell_type": "markdown",
   "source": [
    "This script rename all pictures with a number:"
   ],
   "metadata": {
    "collapsed": false
   }
  },
  {
   "cell_type": "code",
   "execution_count": 49,
   "outputs": [
    {
     "name": "stdout",
     "text": [
      "You have only :  7 /250 pictures in your database\n",
      "Please restart the google image downloader with others keywords\n"
     ],
     "output_type": "stream"
    }
   ],
   "source": [
    "import os\n",
    "i = 0\n",
    "for root, dirs, files in os.walk(pics_directory):\n",
    "    for i,f in enumerate(files):\n",
    "        absname = os.path.join(root, f)\n",
    "        newname = os.path.join(root, \"data_\"+str(i)+\".jpg\")\n",
    "        os.rename(absname, newname)\n",
    "if i < 250:\n",
    "    print(\"You have only : \", str(i), \"/250 pictures in your database\")\n",
    "    print(\"Please restart the google image downloader with others keywords\")\n",
    "    \n",
    "else : \n",
    "    print(\"You have : \", str(i), \"pictures! Good Job!\")\n",
    "    "
   ],
   "metadata": {
    "collapsed": false,
    "pycharm": {
     "name": "#%%\n",
     "is_executing": false
    }
   }
  },
  {
   "cell_type": "markdown",
   "source": [
    "## Scrapping and Labeling your Pics.\n",
    "In this part, I think this is the worst moment of the project! You need to scrap and label all pictures in your database.\n",
    "This sofware will generate a YOLO dataset for each picture in the folder. \n",
    "\n",
    "In the bash to install the labelImg software : \n",
    "```\n",
    "sudo apt-get install pyqt5-dev-tools\n",
    "sudo pip install lxml\n",
    "cd ~/Downloads\n",
    "git clone https://github.com/tzutalin/labelImg\n",
    "cd labelImg-master\n",
    "make qt5py3\n",
    "```\n",
    "\n",
    "Please don't forget to change the Pascal VOC data to YOLO data"
   ],
   "metadata": {
    "collapsed": false,
    "pycharm": {
     "name": "#%% md\n"
    }
   }
  },
  {
   "cell_type": "code",
   "execution_count": 10,
   "outputs": [
    {
     "data": {
      "text/plain": "0"
     },
     "metadata": {},
     "output_type": "execute_result",
     "execution_count": 10
    }
   ],
   "source": [
    "import os\n",
    "os.system(\"labelImg \" + pics_directory + \" \" + model_name)"
   ],
   "metadata": {
    "collapsed": false,
    "pycharm": {
     "name": "#%%\n",
     "is_executing": false
    }
   }
  },
  {
   "cell_type": "markdown",
   "source": [
    "#### YOLO\n",
    "\n",
    "We need to download the SDK."
   ],
   "metadata": {
    "collapsed": false
   }
  },
  {
   "cell_type": "code",
   "execution_count": 3,
   "outputs": [],
   "source": [
    "import os\n",
    "ROOT_DIR = os.path.abspath(os.curdir)\n",
    "DARKNET_DIR = ROOT_DIR + \"/darknet/\"\n",
    "\n",
    "pics_directory_darknet = DARKNET_DIR + \"VOCdevkit\""
   ],
   "metadata": {
    "collapsed": false,
    "pycharm": {
     "name": "#%% \n",
     "is_executing": false
    }
   }
  },
  {
   "cell_type": "code",
   "execution_count": null,
   "outputs": [],
   "source": [
    "from data_augmentation import dataAugmentation\n",
    "generate = dataAugmentation(pics_directory, \"nao_1.jpg\")\n",
    "generate.main(pics_directory, pics_directory_darknet)"
   ],
   "metadata": {
    "collapsed": false,
    "pycharm": {
     "name": "#%%\n"
    }
   }
  },
  {
   "cell_type": "code",
   "execution_count": 4,
   "outputs": [],
   "source": [
    "import glob, os\n",
    "\n",
    "# Current directo\n",
    "# Directory where the data will reside, relative to 'darknet.exe'\n",
    "pics_directory_darknet_relative = 'VOCdevkit/'\n",
    "\n",
    "# Percentage of images to be used for the test set\n",
    "percentage_test = 5;\n",
    "\n",
    "# Create and/or truncate train.txt and test.txt\n",
    "file_train = open('darknet/cfg/train.txt', 'w')  \n",
    "file_test = open('darknet/cfg/test.txt', 'w')\n",
    "\n",
    "# Populate train.txt and test.txt\n",
    "counter = 1  \n",
    "index_test = round(100 / percentage_test)  \n",
    "for pathAndFilename in glob.iglob(os.path.join(pics_directory_darknet, \"*.jpg\")):  \n",
    "    title, ext = os.path.splitext(os.path.basename(pathAndFilename))\n",
    "\n",
    "    if counter == index_test:\n",
    "        counter = 1\n",
    "        file_test.write(pics_directory_darknet_relative + title + '.jpg' + \"\\n\")\n",
    "    else:\n",
    "        file_train.write(pics_directory_darknet_relative + title + '.jpg' + \"\\n\")\n",
    "        counter = counter + 1\n",
    "        \n",
    "file_train.close()\n",
    "file_test.close() "
   ],
   "metadata": {
    "collapsed": false,
    "pycharm": {
     "name": "#%% \n",
     "is_executing": false
    }
   }
  },
  {
   "cell_type": "code",
   "execution_count": 5,
   "outputs": [
    {
     "data": {
      "text/plain": "256"
     },
     "metadata": {},
     "output_type": "execute_result",
     "execution_count": 5
    }
   ],
   "source": [
    "os.system(\"mv \" + ROOT_DIR + \"/test.txt \" + DARKNET_DIR + \"cfg/\")\n",
    "os.system(\"mv \" + ROOT_DIR + \"/train.txt \" + DARKNET_DIR + \"cfg/\")"
   ],
   "metadata": {
    "collapsed": false,
    "pycharm": {
     "name": "#%% \n",
     "is_executing": false
    }
   }
  },
  {
   "cell_type": "code",
   "execution_count": 42,
   "outputs": [],
   "source": [
    "list_names = ['nao']\n",
    "nb_class = str(len(list_names))\n",
    "\n",
    "file_obj = open(DARKNET_DIR + 'cfg/obj.data', 'w')\n",
    "file_obj.write(\"classes = \" + nb_class + \"\\ntrain  = cfg/train.txt \\nvalid  = cfg/test.txt \\nnames = obj.names \\nbackup = backup/\")\n",
    "file_obj.close()\n",
    "\n",
    "file_names = open(DARKNET_DIR + 'cfg/obj.names', 'w')\n",
    "for name in list_names:\n",
    "    file_names.write(name + \"\\n\")\n",
    "file_names.close()\n",
    "    \n",
    "os.system(\"wget https://pjreddie.com/media/files/darknet53.conv.74\")"
   ],
   "metadata": {
    "collapsed": false,
    "pycharm": {
     "name": "#%% \n",
     "is_executing": false
    }
   }
  },
  {
   "cell_type": "code",
   "execution_count": 46,
   "outputs": [
    {
     "data": {
      "text/plain": "0"
     },
     "metadata": {},
     "output_type": "execute_result",
     "execution_count": 46
    }
   ],
   "source": [
    "os.system(\"mv  \" + ROOT_DIR + \"/darknet53.conv.74 \" + DARKNET_DIR + \"cfg/\")"
   ],
   "metadata": {
    "collapsed": false,
    "pycharm": {
     "name": "#%%\n",
     "is_executing": false
    }
   }
  },
  {
   "cell_type": "markdown",
   "source": [
    "#### Convert Pascal VOC to YOLO\n",
    "https://ressources.labomedia.org/yolo_sans_carte_graphique\n",
    "https://timebutt.github.io/static/how-to-train-yolov2-to-detect-custom-objects/\n",
    "If you don't change your format in YOLO and you have only the Pascal VOC XML, you can find different script Python or you can use an automation of your computer and LabelImg to convert the XML to YOLO dataset.\n",
    "\n",
    "You need do to an example of the operation :\n",
    "```\n",
    "cnee --record --mouse -o /tmp/xnee.xns --first-last --smp --time 1 --stop-key 'a'\n",
    "```\n",
    "And when you want do to the repetition:\n",
    "\n",
    "My script is available in the folder `voctoyolo.sh`\n",
    "\n",
    "\n",
    "## Generate the information of the database for YOLO\n",
    "https://pjreddie.com/darknet/yolo/\n",
    "\n",
    "In this part, we generate the information for the database.\n",
    "We need some information : \n",
    "- training data\n",
    "- evalutation data\n",
    "\n",
    "\n",
    "\n",
    "\n",
    "\n",
    "\n",
    "\n",
    "\n"
   ],
   "metadata": {
    "collapsed": false
   }
  },
  {
   "cell_type": "markdown",
   "source": [
    "@article{yolov3,\n",
    "  title={YOLOv3: An Incremental Improvement},\n",
    "  author={Redmon, Joseph and Farhadi, Ali},\n",
    "  journal = {arXiv},\n",
    "  year={2018}\n",
    "}"
   ],
   "metadata": {
    "collapsed": false,
    "pycharm": {
     "name": "#%% md\n"
    }
   }
  }
 ],
 "metadata": {
  "kernelspec": {
   "name": "pycharm-98d13212",
   "language": "python",
   "display_name": "PyCharm (DEEPDART)"
  },
  "language_info": {
   "codemirror_mode": {
    "name": "ipython",
    "version": 2
   },
   "file_extension": ".py",
   "mimetype": "text/x-python",
   "name": "python",
   "nbconvert_exporter": "python",
   "pygments_lexer": "ipython2",
   "version": "2.7.6"
  },
  "pycharm": {
   "stem_cell": {
    "cell_type": "raw",
    "source": [],
    "metadata": {
     "collapsed": false
    }
   }
  }
 },
 "nbformat": 4,
 "nbformat_minor": 0
}